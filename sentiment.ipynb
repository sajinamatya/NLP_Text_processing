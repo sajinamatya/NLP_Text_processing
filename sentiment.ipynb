{
 "cells": [
  {
   "cell_type": "code",
   "execution_count": 163,
   "id": "initial_id",
   "metadata": {
    "collapsed": true,
    "ExecuteTime": {
     "end_time": "2024-03-18T12:31:02.894835800Z",
     "start_time": "2024-03-18T12:31:02.750667300Z"
    }
   },
   "outputs": [],
   "source": [
    "import re\n",
    "from gensim.corpora.dictionary import Dictionary\n",
    "from nltk.tokenize import sent_tokenize\n",
    "from nltk.tokenize import word_tokenize\n",
    "from nltk.tokenize import regexp_tokenize\n",
    "from nltk.tokenize import TweetTokenizer\n",
    "from  collections import Counter\n",
    "from nltk.corpus import stopwords\n",
    "import matplotlib.pyplot as plt\n",
    "import string_data as st"
   ]
  },
  {
   "cell_type": "code",
   "execution_count": 164,
   "outputs": [],
   "source": [
    "# importing data from custom module\n",
    "string = st.stringdata \n"
   ],
   "metadata": {
    "collapsed": false,
    "ExecuteTime": {
     "end_time": "2024-03-18T12:31:02.988690100Z",
     "start_time": "2024-03-18T12:31:02.756046700Z"
    }
   },
   "id": "ae21c8f37bbe708c"
  },
  {
   "cell_type": "markdown",
   "source": [
    "### Split my_string on sentence endings and print the result"
   ],
   "metadata": {
    "collapsed": false
   },
   "id": "1ec7781b8f6fd9d4"
  },
  {
   "cell_type": "code",
   "execution_count": 165,
   "outputs": [
    {
     "name": "stdout",
     "output_type": "stream",
     "text": [
      "['SCENE 1: [wind] [clop clop clop] \\nKING ARTHUR: Whoa there', '  [clop clop clop] \\nSOLDIER #1: Halt', '  Who goes there', '\\nARTHUR: It is I, Arthur, son of Uther Pendragon, from the castle of Camelot', '  King of the Britons, defeator of the Saxons, sovereign of all England', '\\nSOLDIER #1: Pull the other one', '\\nARTHUR: I am, ', '', '', '  and this is my trusty servant Patsy', '  We have ridden the length and breadth of the land in search of knights who will join me in my court at Camelot', '  I must speak with your lord and master', '\\nSOLDIER #1: What', '  Ridden on a horse', '\\nARTHUR: Yes', \"\\nSOLDIER #1: You're using coconuts\", '\\nARTHUR: What', \"\\nSOLDIER #1: You've got two empty halves of coconut and you're bangin' 'em together\", '\\nARTHUR: So', \"  We have ridden since the snows of winter covered this land, through the kingdom of Mercea, through--\\nSOLDIER #1: Where'd you get the coconuts\", '\\nARTHUR: We found them', '\\nSOLDIER #1: Found them', '  In Mercea', \"  The coconut's tropical\", '\\nARTHUR: What do you mean', '\\nSOLDIER #1: Well, this is a temperate zone', '\\nARTHUR: The swallow may fly south with the sun or the house martin or the plover may seek warmer climes in winter, yet these are not strangers to our land', '\\nSOLDIER #1: Are you suggesting coconuts migrate', '\\nARTHUR: Not at all', '  They could be carried', '\\nSOLDIER #1: What', '  A swallow carrying a coconut', '\\nARTHUR: It could grip it by the husk', \"\\nSOLDIER #1: It's not a question of where he grips it\", \"  It's a simple question of weight ratios\", '  A five ounce bird could not carry a one pound coconut', \"\\nARTHUR: Well, it doesn't matter\", '  Will you go and tell your master that Arthur from the Court of Camelot is here', '\\nSOLDIER #1: Listen', '  In order to maintain air-speed velocity, a swallow needs to beat its wings forty-three times every second, right', '\\nARTHUR: Please', '\\nSOLDIER #1: Am I right', \"\\nARTHUR: I'm not interested\", '\\nSOLDIER #2: It could be carried by an African swallow', '\\nSOLDIER #1: Oh, yeah, an African swallow maybe, but not a European swallow', \"  That's my point\", '\\nSOLDIER #2: Oh, yeah, I agree with that', '\\nARTHUR: Will you ask your master if he wants to join my court at Camelot', '', '\\nSOLDIER #1: But then of course a-- African swallows are non-migratory', '\\nSOLDIER #2: Oh, yeah', '', '', \"\\nSOLDIER #1: So they couldn't bring a coconut back anyway\", '', '', '  [clop clop clop] \\nSOLDIER #2: Wait a minute', '  Supposing two swallows carried it together', \"\\nSOLDIER #1: No, they'd have to have it on a line\", '\\nSOLDIER #2: Well, simple', \"  They'd just use a strand of creeper\", '\\nSOLDIER #1: What, held under the dorsal guiding feathers', '\\nSOLDIER #2: Well, why not', '\\n']\n"
     ]
    }
   ],
   "source": [
    "sentence_endings = r\"[.?!]\"\n",
    "print(re.split(sentence_endings, string))"
   ],
   "metadata": {
    "collapsed": false,
    "ExecuteTime": {
     "end_time": "2024-03-18T12:31:02.990693400Z",
     "start_time": "2024-03-18T12:31:02.774690600Z"
    }
   },
   "id": "e22f038c9ae04a94"
  },
  {
   "cell_type": "markdown",
   "source": [
    "### Find all capitalized words in my_string and print the result"
   ],
   "metadata": {
    "collapsed": false
   },
   "id": "ebef24edfd675ede"
  },
  {
   "cell_type": "code",
   "execution_count": 166,
   "outputs": [
    {
     "name": "stdout",
     "output_type": "stream",
     "text": [
      "['SCENE', 'KING', 'ARTHUR', 'Whoa', 'SOLDIER', 'Halt', 'Who', 'ARTHUR', 'It', 'Arthur', 'Uther', 'Pendragon', 'Camelot', 'King', 'Britons', 'Saxons', 'England', 'SOLDIER', 'Pull', 'ARTHUR', 'Patsy', 'We', 'Camelot', 'SOLDIER', 'What', 'Ridden', 'ARTHUR', 'Yes', 'SOLDIER', 'You', 'ARTHUR', 'What', 'SOLDIER', 'You', 'ARTHUR', 'So', 'We', 'Mercea', 'SOLDIER', 'Where', 'ARTHUR', 'We', 'SOLDIER', 'Found', 'In', 'Mercea', 'The', 'ARTHUR', 'What', 'SOLDIER', 'Well', 'ARTHUR', 'The', 'SOLDIER', 'Are', 'ARTHUR', 'Not', 'They', 'SOLDIER', 'What', 'ARTHUR', 'It', 'SOLDIER', 'It', 'It', 'ARTHUR', 'Well', 'Will', 'Arthur', 'Court', 'Camelot', 'SOLDIER', 'Listen', 'In', 'ARTHUR', 'Please', 'SOLDIER', 'Am', 'ARTHUR', 'SOLDIER', 'It', 'African', 'SOLDIER', 'Oh', 'African', 'European', 'That', 'SOLDIER', 'Oh', 'ARTHUR', 'Will', 'Camelot', 'SOLDIER', 'But', 'African', 'SOLDIER', 'Oh', 'SOLDIER', 'So', 'SOLDIER', 'Wait', 'Supposing', 'SOLDIER', 'No', 'SOLDIER', 'Well', 'They', 'SOLDIER', 'What', 'SOLDIER', 'Well']\n"
     ]
    }
   ],
   "source": [
    "\n",
    "capitalized_words = r\"[A-Z]\\w+\"\n",
    "print(re.findall(capitalized_words, string))"
   ],
   "metadata": {
    "collapsed": false,
    "ExecuteTime": {
     "end_time": "2024-03-18T12:31:03.004982200Z",
     "start_time": "2024-03-18T12:31:02.781822800Z"
    }
   },
   "id": "e939fb961265d501"
  },
  {
   "cell_type": "markdown",
   "source": [
    "### Split my_string on spaces and print the result"
   ],
   "metadata": {
    "collapsed": false
   },
   "id": "516d979704f3b0d3"
  },
  {
   "cell_type": "code",
   "execution_count": 167,
   "outputs": [
    {
     "name": "stdout",
     "output_type": "stream",
     "text": [
      "['SCENE', '1:', '[wind]', '[clop', 'clop', 'clop]', 'KING', 'ARTHUR:', 'Whoa', 'there!', '[clop', 'clop', 'clop]', 'SOLDIER', '#1:', 'Halt!', 'Who', 'goes', 'there?', 'ARTHUR:', 'It', 'is', 'I,', 'Arthur,', 'son', 'of', 'Uther', 'Pendragon,', 'from', 'the', 'castle', 'of', 'Camelot.', 'King', 'of', 'the', 'Britons,', 'defeator', 'of', 'the', 'Saxons,', 'sovereign', 'of', 'all', 'England!', 'SOLDIER', '#1:', 'Pull', 'the', 'other', 'one!', 'ARTHUR:', 'I', 'am,', '...', 'and', 'this', 'is', 'my', 'trusty', 'servant', 'Patsy.', 'We', 'have', 'ridden', 'the', 'length', 'and', 'breadth', 'of', 'the', 'land', 'in', 'search', 'of', 'knights', 'who', 'will', 'join', 'me', 'in', 'my', 'court', 'at', 'Camelot.', 'I', 'must', 'speak', 'with', 'your', 'lord', 'and', 'master.', 'SOLDIER', '#1:', 'What?', 'Ridden', 'on', 'a', 'horse?', 'ARTHUR:', 'Yes!', 'SOLDIER', '#1:', \"You're\", 'using', 'coconuts!', 'ARTHUR:', 'What?', 'SOLDIER', '#1:', \"You've\", 'got', 'two', 'empty', 'halves', 'of', 'coconut', 'and', \"you're\", \"bangin'\", \"'em\", 'together.', 'ARTHUR:', 'So?', 'We', 'have', 'ridden', 'since', 'the', 'snows', 'of', 'winter', 'covered', 'this', 'land,', 'through', 'the', 'kingdom', 'of', 'Mercea,', 'through--', 'SOLDIER', '#1:', \"Where'd\", 'you', 'get', 'the', 'coconuts?', 'ARTHUR:', 'We', 'found', 'them.', 'SOLDIER', '#1:', 'Found', 'them?', 'In', 'Mercea?', 'The', \"coconut's\", 'tropical!', 'ARTHUR:', 'What', 'do', 'you', 'mean?', 'SOLDIER', '#1:', 'Well,', 'this', 'is', 'a', 'temperate', 'zone.', 'ARTHUR:', 'The', 'swallow', 'may', 'fly', 'south', 'with', 'the', 'sun', 'or', 'the', 'house', 'martin', 'or', 'the', 'plover', 'may', 'seek', 'warmer', 'climes', 'in', 'winter,', 'yet', 'these', 'are', 'not', 'strangers', 'to', 'our', 'land?', 'SOLDIER', '#1:', 'Are', 'you', 'suggesting', 'coconuts', 'migrate?', 'ARTHUR:', 'Not', 'at', 'all.', 'They', 'could', 'be', 'carried.', 'SOLDIER', '#1:', 'What?', 'A', 'swallow', 'carrying', 'a', 'coconut?', 'ARTHUR:', 'It', 'could', 'grip', 'it', 'by', 'the', 'husk!', 'SOLDIER', '#1:', \"It's\", 'not', 'a', 'question', 'of', 'where', 'he', 'grips', 'it!', \"It's\", 'a', 'simple', 'question', 'of', 'weight', 'ratios!', 'A', 'five', 'ounce', 'bird', 'could', 'not', 'carry', 'a', 'one', 'pound', 'coconut.', 'ARTHUR:', 'Well,', 'it', \"doesn't\", 'matter.', 'Will', 'you', 'go', 'and', 'tell', 'your', 'master', 'that', 'Arthur', 'from', 'the', 'Court', 'of', 'Camelot', 'is', 'here.', 'SOLDIER', '#1:', 'Listen.', 'In', 'order', 'to', 'maintain', 'air-speed', 'velocity,', 'a', 'swallow', 'needs', 'to', 'beat', 'its', 'wings', 'forty-three', 'times', 'every', 'second,', 'right?', 'ARTHUR:', 'Please!', 'SOLDIER', '#1:', 'Am', 'I', 'right?', 'ARTHUR:', \"I'm\", 'not', 'interested!', 'SOLDIER', '#2:', 'It', 'could', 'be', 'carried', 'by', 'an', 'African', 'swallow!', 'SOLDIER', '#1:', 'Oh,', 'yeah,', 'an', 'African', 'swallow', 'maybe,', 'but', 'not', 'a', 'European', 'swallow.', \"That's\", 'my', 'point.', 'SOLDIER', '#2:', 'Oh,', 'yeah,', 'I', 'agree', 'with', 'that.', 'ARTHUR:', 'Will', 'you', 'ask', 'your', 'master', 'if', 'he', 'wants', 'to', 'join', 'my', 'court', 'at', 'Camelot?!', 'SOLDIER', '#1:', 'But', 'then', 'of', 'course', 'a--', 'African', 'swallows', 'are', 'non-migratory.', 'SOLDIER', '#2:', 'Oh,', 'yeah...', 'SOLDIER', '#1:', 'So', 'they', \"couldn't\", 'bring', 'a', 'coconut', 'back', 'anyway...', '[clop', 'clop', 'clop]', 'SOLDIER', '#2:', 'Wait', 'a', 'minute!', 'Supposing', 'two', 'swallows', 'carried', 'it', 'together?', 'SOLDIER', '#1:', 'No,', \"they'd\", 'have', 'to', 'have', 'it', 'on', 'a', 'line.', 'SOLDIER', '#2:', 'Well,', 'simple!', \"They'd\", 'just', 'use', 'a', 'strand', 'of', 'creeper!', 'SOLDIER', '#1:', 'What,', 'held', 'under', 'the', 'dorsal', 'guiding', 'feathers?', 'SOLDIER', '#2:', 'Well,', 'why', 'not?', '']\n"
     ]
    }
   ],
   "source": [
    "\n",
    "spaces = r\"\\s+\"\n",
    "print(re.split(spaces, string))"
   ],
   "metadata": {
    "collapsed": false,
    "ExecuteTime": {
     "end_time": "2024-03-18T12:31:03.007981600Z",
     "start_time": "2024-03-18T12:31:02.786497Z"
    }
   },
   "id": "888e0fc2a04588f8"
  },
  {
   "cell_type": "markdown",
   "source": [
    "### Find all digits in my_string and print the result\n"
   ],
   "metadata": {
    "collapsed": false
   },
   "id": "b3091cae47354da0"
  },
  {
   "cell_type": "code",
   "execution_count": 168,
   "outputs": [
    {
     "name": "stdout",
     "output_type": "stream",
     "text": [
      "['1', '1', '1', '1', '1', '1', '1', '1', '1', '1', '1', '1', '1', '1', '2', '1', '2', '1', '2', '1', '2', '1', '2', '1', '2']\n"
     ]
    }
   ],
   "source": [
    "digits = r\"\\d+\"\n",
    "print(re.findall(digits, string))"
   ],
   "metadata": {
    "collapsed": false,
    "ExecuteTime": {
     "end_time": "2024-03-18T12:31:03.007981600Z",
     "start_time": "2024-03-18T12:31:02.793134100Z"
    }
   },
   "id": "ae4f5bfe30344ac"
  },
  {
   "cell_type": "markdown",
   "source": [
    "### Split scene into sentences: sentences"
   ],
   "metadata": {
    "collapsed": false
   },
   "id": "1325bc9bb324021e"
  },
  {
   "cell_type": "code",
   "execution_count": 169,
   "outputs": [
    {
     "name": "stdout",
     "output_type": "stream",
     "text": [
      "['SCENE 1: [wind] [clop clop clop] \\nKING ARTHUR: Whoa there!', '[clop clop clop] \\nSOLDIER #1: Halt!', 'Who goes there?', 'ARTHUR: It is I, Arthur, son of Uther Pendragon, from the castle of Camelot.', 'King of the Britons, defeator of the Saxons, sovereign of all England!', 'SOLDIER #1: Pull the other one!', 'ARTHUR: I am, ...  and this is my trusty servant Patsy.', 'We have ridden the length and breadth of the land in search of knights who will join me in my court at Camelot.', 'I must speak with your lord and master.', 'SOLDIER #1: What?', 'Ridden on a horse?', 'ARTHUR: Yes!', \"SOLDIER #1: You're using coconuts!\", 'ARTHUR: What?', \"SOLDIER #1: You've got two empty halves of coconut and you're bangin' 'em together.\", 'ARTHUR: So?', \"We have ridden since the snows of winter covered this land, through the kingdom of Mercea, through--\\nSOLDIER #1: Where'd you get the coconuts?\", 'ARTHUR: We found them.', 'SOLDIER #1: Found them?', 'In Mercea?', \"The coconut's tropical!\", 'ARTHUR: What do you mean?', 'SOLDIER #1: Well, this is a temperate zone.', 'ARTHUR: The swallow may fly south with the sun or the house martin or the plover may seek warmer climes in winter, yet these are not strangers to our land?', 'SOLDIER #1: Are you suggesting coconuts migrate?', 'ARTHUR: Not at all.', 'They could be carried.', 'SOLDIER #1: What?', 'A swallow carrying a coconut?', 'ARTHUR: It could grip it by the husk!', \"SOLDIER #1: It's not a question of where he grips it!\", \"It's a simple question of weight ratios!\", 'A five ounce bird could not carry a one pound coconut.', \"ARTHUR: Well, it doesn't matter.\", 'Will you go and tell your master that Arthur from the Court of Camelot is here.', 'SOLDIER #1: Listen.', 'In order to maintain air-speed velocity, a swallow needs to beat its wings forty-three times every second, right?', 'ARTHUR: Please!', 'SOLDIER #1: Am I right?', \"ARTHUR: I'm not interested!\", 'SOLDIER #2: It could be carried by an African swallow!', 'SOLDIER #1: Oh, yeah, an African swallow maybe, but not a European swallow.', \"That's my point.\", 'SOLDIER #2: Oh, yeah, I agree with that.', 'ARTHUR: Will you ask your master if he wants to join my court at Camelot?!', 'SOLDIER #1: But then of course a-- African swallows are non-migratory.', 'SOLDIER #2: Oh, yeah...', \"SOLDIER #1: So they couldn't bring a coconut back anyway...  [clop clop clop] \\nSOLDIER #2: Wait a minute!\", 'Supposing two swallows carried it together?', \"SOLDIER #1: No, they'd have to have it on a line.\", 'SOLDIER #2: Well, simple!', \"They'd just use a strand of creeper!\", 'SOLDIER #1: What, held under the dorsal guiding feathers?', 'SOLDIER #2: Well, why not?']\n"
     ]
    }
   ],
   "source": [
    "\n",
    "sentences = sent_tokenize(string)\n",
    "print(sentences)"
   ],
   "metadata": {
    "collapsed": false,
    "ExecuteTime": {
     "end_time": "2024-03-18T12:31:03.016124900Z",
     "start_time": "2024-03-18T12:31:02.799943Z"
    }
   },
   "id": "e4f9f34c8bc9024a"
  },
  {
   "cell_type": "markdown",
   "source": [
    "### Use word_tokenize to tokenize the fourth sentence: tokenized_sent"
   ],
   "metadata": {
    "collapsed": false
   },
   "id": "89ebf3bcfd7a9edc"
  },
  {
   "cell_type": "code",
   "execution_count": 201,
   "outputs": [
    {
     "name": "stdout",
     "output_type": "stream",
     "text": [
      "['ARTHUR', ':', 'It', 'is', 'I', ',', 'Arthur', ',', 'son', 'of', 'Uther', 'Pendragon', ',', 'from', 'the', 'castle', 'of', 'Camelot', '.']\n"
     ]
    }
   ],
   "source": [
    "tokenized_sent = word_tokenize(sentences[3])\n"
   ],
   "metadata": {
    "collapsed": false,
    "ExecuteTime": {
     "end_time": "2024-03-18T12:45:15.024835100Z",
     "start_time": "2024-03-18T12:45:15.015302500Z"
    }
   },
   "id": "f1f0b4113ee13d75"
  },
  {
   "cell_type": "markdown",
   "source": [],
   "metadata": {
    "collapsed": false
   },
   "id": "833b291b3b6196db"
  },
  {
   "cell_type": "markdown",
   "source": [
    "### Make a set of unique tokens in the entire scene: unique_tokens"
   ],
   "metadata": {
    "collapsed": false
   },
   "id": "5fdd4f302c754a0d"
  },
  {
   "cell_type": "code",
   "execution_count": 171,
   "outputs": [
    {
     "name": "stdout",
     "output_type": "stream",
     "text": [
      "{'order', 'other', 'bird', 'get', 'So', 'through', 'or', 'tell', 'back', 'martin', 'maybe', 'ARTHUR', 'ounce', 'my', \"n't\", 'from', 'European', 'temperate', 'Arthur', 'he', 'guiding', 'am', 'coconuts', 'clop', 'will', 'I', 'the', 'here', 'with', \"'em\", 'Wait', 'search', 'Who', 'In', 'Saxons', 'climes', '.', 'be', 'use', 'are', 'every', 'join', 'question', '...', 'Whoa', 'Will', 'non-migratory', 'Pull', 'minute', 'strangers', 'this', \"'s\", 'but', 'master', 'No', 'snows', ']', 'swallows', 'two', 'A', 'in', 'Halt', 'who', 'mean', 'African', 'bring', '1', 'King', 'of', 'got', 'seek', 'suggesting', 'Court', 'its', 'just', 'go', 'matter', 'servant', 'forty-three', ':', 'must', 'one', 'swallow', 'zone', 'They', 'our', 'have', 'grips', 'The', 'Oh', 'sovereign', \"'ve\", 'your', 'me', 'kingdom', 'But', 'land', ',', 'five', 'pound', 'wings', 'right', 'ratios', 'Listen', 'yet', 'house', 'and', 'Yes', 'Please', 'castle', 'air-speed', 'if', 'you', 'point', 'ridden', 'there', 'Supposing', 'It', 'breadth', 'found', 'all', '#', 'migrate', 'Am', 'why', 'length', 'could', '--', 'that', 'What', 'defeator', 'simple', 'interested', 'carry', 'son', 'on', 'together', \"'re\", 'velocity', 'KING', 'where', 'court', 'it', 'sun', 'Well', 'do', 'Patsy', 'agree', 'wants', 'maintain', 'these', 'That', '?', 'speak', 'lord', 'using', 'to', 'line', 'is', 'goes', 'SCENE', 'at', 'Pendragon', 'they', 'anyway', 'covered', 'winter', 'Where', 'under', 'husk', 'yeah', 'beat', 'weight', 'needs', 'Are', 'second', 'tropical', 'Camelot', 'fly', 'since', 'ask', 'a', 'empty', 'then', 'strand', 'halves', 'You', 'horse', 'plover', 'creeper', 'Uther', 'bangin', 'We', '!', \"'d\", 'warmer', 'Found', 'England', 'carried', 'wind', 'an', 'knights', 'by', 'Ridden', 'course', 'Mercea', 'may', '[', 'Britons', 'Not', 'feathers', 'carrying', 'does', 'times', \"'m\", 'not', 'grip', 'dorsal', 'SOLDIER', 'south', \"'\", 'held', 'coconut', 'them', '2', 'trusty'}\n"
     ]
    }
   ],
   "source": [
    "unique_tokens = set(word_tokenize(string))\n",
    "print(unique_tokens)\n"
   ],
   "metadata": {
    "collapsed": false,
    "ExecuteTime": {
     "end_time": "2024-03-18T12:31:03.021643700Z",
     "start_time": "2024-03-18T12:31:02.811411600Z"
    }
   },
   "id": "ef7e62e28767ec8a"
  },
  {
   "cell_type": "markdown",
   "source": [
    "### Search for the first occurrence of \"coconuts\" in string: match"
   ],
   "metadata": {
    "collapsed": false
   },
   "id": "592131ae2500213e"
  },
  {
   "cell_type": "code",
   "execution_count": 172,
   "outputs": [
    {
     "name": "stdout",
     "output_type": "stream",
     "text": [
      "580 588\n"
     ]
    }
   ],
   "source": [
    "match = re.search(\"coconuts\", string)\n",
    "\n",
    "# Print the start and end indexes of match\n",
    "print(match.start(), match.end())"
   ],
   "metadata": {
    "collapsed": false,
    "ExecuteTime": {
     "end_time": "2024-03-18T12:31:03.024177200Z",
     "start_time": "2024-03-18T12:31:02.821658700Z"
    }
   },
   "id": "3c474306cd56f784"
  },
  {
   "cell_type": "markdown",
   "source": [
    "### regular expression to search for anything in square brackets: pattern1"
   ],
   "metadata": {
    "collapsed": false
   },
   "id": "17bcfa7c57659f44"
  },
  {
   "cell_type": "code",
   "execution_count": 173,
   "outputs": [
    {
     "name": "stdout",
     "output_type": "stream",
     "text": [
      "<re.Match object; span=(9, 32), match='[wind] [clop clop clop]'>\n"
     ]
    }
   ],
   "source": [
    "\n",
    "pattern1 = r\"\\[.*\\]\"\n",
    "# RE.search to find the first text in square brackets\n",
    "print(re.search(pattern1, string))"
   ],
   "metadata": {
    "collapsed": false,
    "ExecuteTime": {
     "end_time": "2024-03-18T12:31:03.032197200Z",
     "start_time": "2024-03-18T12:31:02.827453900Z"
    }
   },
   "id": "54d43d3bd1e23bf9"
  },
  {
   "cell_type": "markdown",
   "source": [
    "### finding the script notation at the beginning of the fourth sentence and print it"
   ],
   "metadata": {
    "collapsed": false
   },
   "id": "a7bc04ac15d80577"
  },
  {
   "cell_type": "code",
   "execution_count": 174,
   "outputs": [
    {
     "name": "stdout",
     "output_type": "stream",
     "text": [
      "<re.Match object; span=(0, 7), match='ARTHUR:'>\n"
     ]
    }
   ],
   "source": [
    "\n",
    "pattern2 = r\"[\\w\\s]+:\"\n",
    "print(re.match(pattern2, sentences[3]))"
   ],
   "metadata": {
    "collapsed": false,
    "ExecuteTime": {
     "end_time": "2024-03-18T12:31:03.032197200Z",
     "start_time": "2024-03-18T12:31:02.831515200Z"
    }
   },
   "id": "17c2469c93b5b6fb"
  },
  {
   "cell_type": "markdown",
   "source": [
    "### Define a regex pattern to find hashtags: pattern1"
   ],
   "metadata": {
    "collapsed": false
   },
   "id": "e126679baa5bf559"
  },
  {
   "cell_type": "code",
   "execution_count": 175,
   "outputs": [
    {
     "name": "stdout",
     "output_type": "stream",
     "text": [
      "[]\n"
     ]
    }
   ],
   "source": [
    "\n",
    "pattern1 = r\"#\\w+\"\n",
    "hashtags = regexp_tokenize(string[0], pattern1)\n",
    "print(hashtags)"
   ],
   "metadata": {
    "collapsed": false,
    "ExecuteTime": {
     "end_time": "2024-03-18T12:31:03.034469500Z",
     "start_time": "2024-03-18T12:31:02.837433700Z"
    }
   },
   "id": "423f8ed56a20454"
  },
  {
   "cell_type": "markdown",
   "source": [
    "### a pattern that matches both mentions (@) and hashtags"
   ],
   "metadata": {
    "collapsed": false
   },
   "id": "4a2342cf7ef9d182"
  },
  {
   "cell_type": "code",
   "execution_count": 176,
   "outputs": [
    {
     "name": "stdout",
     "output_type": "stream",
     "text": [
      "[]\n"
     ]
    }
   ],
   "source": [
    "\n",
    "pattern2 = r\"([@#]\\w+)\"\n",
    "\n",
    "mentions_hashtags = regexp_tokenize(string[-1],pattern2)\n",
    "print(mentions_hashtags)"
   ],
   "metadata": {
    "collapsed": false,
    "ExecuteTime": {
     "end_time": "2024-03-18T12:31:03.037402Z",
     "start_time": "2024-03-18T12:31:02.842805700Z"
    }
   },
   "id": "ab1cceed33d98d18"
  },
  {
   "cell_type": "markdown",
   "source": [
    "### Use the TweetTokenizer to tokenize all tweets into one list"
   ],
   "metadata": {
    "collapsed": false
   },
   "id": "6f0067f16f1b6cfc"
  },
  {
   "cell_type": "code",
   "execution_count": 177,
   "outputs": [
    {
     "name": "stdout",
     "output_type": "stream",
     "text": [
      "[['S'], ['C'], ['E'], ['N'], ['E'], [], ['1'], [':'], [], ['['], ['w'], ['i'], ['n'], ['d'], [']'], [], ['['], ['c'], ['l'], ['o'], ['p'], [], ['c'], ['l'], ['o'], ['p'], [], ['c'], ['l'], ['o'], ['p'], [']'], [], [], ['K'], ['I'], ['N'], ['G'], [], ['A'], ['R'], ['T'], ['H'], ['U'], ['R'], [':'], [], ['W'], ['h'], ['o'], ['a'], [], ['t'], ['h'], ['e'], ['r'], ['e'], ['!'], [], [], ['['], ['c'], ['l'], ['o'], ['p'], [], ['c'], ['l'], ['o'], ['p'], [], ['c'], ['l'], ['o'], ['p'], [']'], [], [], ['S'], ['O'], ['L'], ['D'], ['I'], ['E'], ['R'], [], ['#'], ['1'], [':'], [], ['H'], ['a'], ['l'], ['t'], ['!'], [], [], ['W'], ['h'], ['o'], [], ['g'], ['o'], ['e'], ['s'], [], ['t'], ['h'], ['e'], ['r'], ['e'], ['?'], [], ['A'], ['R'], ['T'], ['H'], ['U'], ['R'], [':'], [], ['I'], ['t'], [], ['i'], ['s'], [], ['I'], [','], [], ['A'], ['r'], ['t'], ['h'], ['u'], ['r'], [','], [], ['s'], ['o'], ['n'], [], ['o'], ['f'], [], ['U'], ['t'], ['h'], ['e'], ['r'], [], ['P'], ['e'], ['n'], ['d'], ['r'], ['a'], ['g'], ['o'], ['n'], [','], [], ['f'], ['r'], ['o'], ['m'], [], ['t'], ['h'], ['e'], [], ['c'], ['a'], ['s'], ['t'], ['l'], ['e'], [], ['o'], ['f'], [], ['C'], ['a'], ['m'], ['e'], ['l'], ['o'], ['t'], ['.'], [], [], ['K'], ['i'], ['n'], ['g'], [], ['o'], ['f'], [], ['t'], ['h'], ['e'], [], ['B'], ['r'], ['i'], ['t'], ['o'], ['n'], ['s'], [','], [], ['d'], ['e'], ['f'], ['e'], ['a'], ['t'], ['o'], ['r'], [], ['o'], ['f'], [], ['t'], ['h'], ['e'], [], ['S'], ['a'], ['x'], ['o'], ['n'], ['s'], [','], [], ['s'], ['o'], ['v'], ['e'], ['r'], ['e'], ['i'], ['g'], ['n'], [], ['o'], ['f'], [], ['a'], ['l'], ['l'], [], ['E'], ['n'], ['g'], ['l'], ['a'], ['n'], ['d'], ['!'], [], ['S'], ['O'], ['L'], ['D'], ['I'], ['E'], ['R'], [], ['#'], ['1'], [':'], [], ['P'], ['u'], ['l'], ['l'], [], ['t'], ['h'], ['e'], [], ['o'], ['t'], ['h'], ['e'], ['r'], [], ['o'], ['n'], ['e'], ['!'], [], ['A'], ['R'], ['T'], ['H'], ['U'], ['R'], [':'], [], ['I'], [], ['a'], ['m'], [','], [], ['.'], ['.'], ['.'], [], [], ['a'], ['n'], ['d'], [], ['t'], ['h'], ['i'], ['s'], [], ['i'], ['s'], [], ['m'], ['y'], [], ['t'], ['r'], ['u'], ['s'], ['t'], ['y'], [], ['s'], ['e'], ['r'], ['v'], ['a'], ['n'], ['t'], [], ['P'], ['a'], ['t'], ['s'], ['y'], ['.'], [], [], ['W'], ['e'], [], ['h'], ['a'], ['v'], ['e'], [], ['r'], ['i'], ['d'], ['d'], ['e'], ['n'], [], ['t'], ['h'], ['e'], [], ['l'], ['e'], ['n'], ['g'], ['t'], ['h'], [], ['a'], ['n'], ['d'], [], ['b'], ['r'], ['e'], ['a'], ['d'], ['t'], ['h'], [], ['o'], ['f'], [], ['t'], ['h'], ['e'], [], ['l'], ['a'], ['n'], ['d'], [], ['i'], ['n'], [], ['s'], ['e'], ['a'], ['r'], ['c'], ['h'], [], ['o'], ['f'], [], ['k'], ['n'], ['i'], ['g'], ['h'], ['t'], ['s'], [], ['w'], ['h'], ['o'], [], ['w'], ['i'], ['l'], ['l'], [], ['j'], ['o'], ['i'], ['n'], [], ['m'], ['e'], [], ['i'], ['n'], [], ['m'], ['y'], [], ['c'], ['o'], ['u'], ['r'], ['t'], [], ['a'], ['t'], [], ['C'], ['a'], ['m'], ['e'], ['l'], ['o'], ['t'], ['.'], [], [], ['I'], [], ['m'], ['u'], ['s'], ['t'], [], ['s'], ['p'], ['e'], ['a'], ['k'], [], ['w'], ['i'], ['t'], ['h'], [], ['y'], ['o'], ['u'], ['r'], [], ['l'], ['o'], ['r'], ['d'], [], ['a'], ['n'], ['d'], [], ['m'], ['a'], ['s'], ['t'], ['e'], ['r'], ['.'], [], ['S'], ['O'], ['L'], ['D'], ['I'], ['E'], ['R'], [], ['#'], ['1'], [':'], [], ['W'], ['h'], ['a'], ['t'], ['?'], [], [], ['R'], ['i'], ['d'], ['d'], ['e'], ['n'], [], ['o'], ['n'], [], ['a'], [], ['h'], ['o'], ['r'], ['s'], ['e'], ['?'], [], ['A'], ['R'], ['T'], ['H'], ['U'], ['R'], [':'], [], ['Y'], ['e'], ['s'], ['!'], [], ['S'], ['O'], ['L'], ['D'], ['I'], ['E'], ['R'], [], ['#'], ['1'], [':'], [], ['Y'], ['o'], ['u'], [\"'\"], ['r'], ['e'], [], ['u'], ['s'], ['i'], ['n'], ['g'], [], ['c'], ['o'], ['c'], ['o'], ['n'], ['u'], ['t'], ['s'], ['!'], [], ['A'], ['R'], ['T'], ['H'], ['U'], ['R'], [':'], [], ['W'], ['h'], ['a'], ['t'], ['?'], [], ['S'], ['O'], ['L'], ['D'], ['I'], ['E'], ['R'], [], ['#'], ['1'], [':'], [], ['Y'], ['o'], ['u'], [\"'\"], ['v'], ['e'], [], ['g'], ['o'], ['t'], [], ['t'], ['w'], ['o'], [], ['e'], ['m'], ['p'], ['t'], ['y'], [], ['h'], ['a'], ['l'], ['v'], ['e'], ['s'], [], ['o'], ['f'], [], ['c'], ['o'], ['c'], ['o'], ['n'], ['u'], ['t'], [], ['a'], ['n'], ['d'], [], ['y'], ['o'], ['u'], [\"'\"], ['r'], ['e'], [], ['b'], ['a'], ['n'], ['g'], ['i'], ['n'], [\"'\"], [], [\"'\"], ['e'], ['m'], [], ['t'], ['o'], ['g'], ['e'], ['t'], ['h'], ['e'], ['r'], ['.'], [], ['A'], ['R'], ['T'], ['H'], ['U'], ['R'], [':'], [], ['S'], ['o'], ['?'], [], [], ['W'], ['e'], [], ['h'], ['a'], ['v'], ['e'], [], ['r'], ['i'], ['d'], ['d'], ['e'], ['n'], [], ['s'], ['i'], ['n'], ['c'], ['e'], [], ['t'], ['h'], ['e'], [], ['s'], ['n'], ['o'], ['w'], ['s'], [], ['o'], ['f'], [], ['w'], ['i'], ['n'], ['t'], ['e'], ['r'], [], ['c'], ['o'], ['v'], ['e'], ['r'], ['e'], ['d'], [], ['t'], ['h'], ['i'], ['s'], [], ['l'], ['a'], ['n'], ['d'], [','], [], ['t'], ['h'], ['r'], ['o'], ['u'], ['g'], ['h'], [], ['t'], ['h'], ['e'], [], ['k'], ['i'], ['n'], ['g'], ['d'], ['o'], ['m'], [], ['o'], ['f'], [], ['M'], ['e'], ['r'], ['c'], ['e'], ['a'], [','], [], ['t'], ['h'], ['r'], ['o'], ['u'], ['g'], ['h'], ['-'], ['-'], [], ['S'], ['O'], ['L'], ['D'], ['I'], ['E'], ['R'], [], ['#'], ['1'], [':'], [], ['W'], ['h'], ['e'], ['r'], ['e'], [\"'\"], ['d'], [], ['y'], ['o'], ['u'], [], ['g'], ['e'], ['t'], [], ['t'], ['h'], ['e'], [], ['c'], ['o'], ['c'], ['o'], ['n'], ['u'], ['t'], ['s'], ['?'], [], ['A'], ['R'], ['T'], ['H'], ['U'], ['R'], [':'], [], ['W'], ['e'], [], ['f'], ['o'], ['u'], ['n'], ['d'], [], ['t'], ['h'], ['e'], ['m'], ['.'], [], ['S'], ['O'], ['L'], ['D'], ['I'], ['E'], ['R'], [], ['#'], ['1'], [':'], [], ['F'], ['o'], ['u'], ['n'], ['d'], [], ['t'], ['h'], ['e'], ['m'], ['?'], [], [], ['I'], ['n'], [], ['M'], ['e'], ['r'], ['c'], ['e'], ['a'], ['?'], [], [], ['T'], ['h'], ['e'], [], ['c'], ['o'], ['c'], ['o'], ['n'], ['u'], ['t'], [\"'\"], ['s'], [], ['t'], ['r'], ['o'], ['p'], ['i'], ['c'], ['a'], ['l'], ['!'], [], ['A'], ['R'], ['T'], ['H'], ['U'], ['R'], [':'], [], ['W'], ['h'], ['a'], ['t'], [], ['d'], ['o'], [], ['y'], ['o'], ['u'], [], ['m'], ['e'], ['a'], ['n'], ['?'], [], ['S'], ['O'], ['L'], ['D'], ['I'], ['E'], ['R'], [], ['#'], ['1'], [':'], [], ['W'], ['e'], ['l'], ['l'], [','], [], ['t'], ['h'], ['i'], ['s'], [], ['i'], ['s'], [], ['a'], [], ['t'], ['e'], ['m'], ['p'], ['e'], ['r'], ['a'], ['t'], ['e'], [], ['z'], ['o'], ['n'], ['e'], ['.'], [], ['A'], ['R'], ['T'], ['H'], ['U'], ['R'], [':'], [], ['T'], ['h'], ['e'], [], ['s'], ['w'], ['a'], ['l'], ['l'], ['o'], ['w'], [], ['m'], ['a'], ['y'], [], ['f'], ['l'], ['y'], [], ['s'], ['o'], ['u'], ['t'], ['h'], [], ['w'], ['i'], ['t'], ['h'], [], ['t'], ['h'], ['e'], [], ['s'], ['u'], ['n'], [], ['o'], ['r'], [], ['t'], ['h'], ['e'], [], ['h'], ['o'], ['u'], ['s'], ['e'], [], ['m'], ['a'], ['r'], ['t'], ['i'], ['n'], [], ['o'], ['r'], [], ['t'], ['h'], ['e'], [], ['p'], ['l'], ['o'], ['v'], ['e'], ['r'], [], ['m'], ['a'], ['y'], [], ['s'], ['e'], ['e'], ['k'], [], ['w'], ['a'], ['r'], ['m'], ['e'], ['r'], [], ['c'], ['l'], ['i'], ['m'], ['e'], ['s'], [], ['i'], ['n'], [], ['w'], ['i'], ['n'], ['t'], ['e'], ['r'], [','], [], ['y'], ['e'], ['t'], [], ['t'], ['h'], ['e'], ['s'], ['e'], [], ['a'], ['r'], ['e'], [], ['n'], ['o'], ['t'], [], ['s'], ['t'], ['r'], ['a'], ['n'], ['g'], ['e'], ['r'], ['s'], [], ['t'], ['o'], [], ['o'], ['u'], ['r'], [], ['l'], ['a'], ['n'], ['d'], ['?'], [], ['S'], ['O'], ['L'], ['D'], ['I'], ['E'], ['R'], [], ['#'], ['1'], [':'], [], ['A'], ['r'], ['e'], [], ['y'], ['o'], ['u'], [], ['s'], ['u'], ['g'], ['g'], ['e'], ['s'], ['t'], ['i'], ['n'], ['g'], [], ['c'], ['o'], ['c'], ['o'], ['n'], ['u'], ['t'], ['s'], [], ['m'], ['i'], ['g'], ['r'], ['a'], ['t'], ['e'], ['?'], [], ['A'], ['R'], ['T'], ['H'], ['U'], ['R'], [':'], [], ['N'], ['o'], ['t'], [], ['a'], ['t'], [], ['a'], ['l'], ['l'], ['.'], [], [], ['T'], ['h'], ['e'], ['y'], [], ['c'], ['o'], ['u'], ['l'], ['d'], [], ['b'], ['e'], [], ['c'], ['a'], ['r'], ['r'], ['i'], ['e'], ['d'], ['.'], [], ['S'], ['O'], ['L'], ['D'], ['I'], ['E'], ['R'], [], ['#'], ['1'], [':'], [], ['W'], ['h'], ['a'], ['t'], ['?'], [], [], ['A'], [], ['s'], ['w'], ['a'], ['l'], ['l'], ['o'], ['w'], [], ['c'], ['a'], ['r'], ['r'], ['y'], ['i'], ['n'], ['g'], [], ['a'], [], ['c'], ['o'], ['c'], ['o'], ['n'], ['u'], ['t'], ['?'], [], ['A'], ['R'], ['T'], ['H'], ['U'], ['R'], [':'], [], ['I'], ['t'], [], ['c'], ['o'], ['u'], ['l'], ['d'], [], ['g'], ['r'], ['i'], ['p'], [], ['i'], ['t'], [], ['b'], ['y'], [], ['t'], ['h'], ['e'], [], ['h'], ['u'], ['s'], ['k'], ['!'], [], ['S'], ['O'], ['L'], ['D'], ['I'], ['E'], ['R'], [], ['#'], ['1'], [':'], [], ['I'], ['t'], [\"'\"], ['s'], [], ['n'], ['o'], ['t'], [], ['a'], [], ['q'], ['u'], ['e'], ['s'], ['t'], ['i'], ['o'], ['n'], [], ['o'], ['f'], [], ['w'], ['h'], ['e'], ['r'], ['e'], [], ['h'], ['e'], [], ['g'], ['r'], ['i'], ['p'], ['s'], [], ['i'], ['t'], ['!'], [], [], ['I'], ['t'], [\"'\"], ['s'], [], ['a'], [], ['s'], ['i'], ['m'], ['p'], ['l'], ['e'], [], ['q'], ['u'], ['e'], ['s'], ['t'], ['i'], ['o'], ['n'], [], ['o'], ['f'], [], ['w'], ['e'], ['i'], ['g'], ['h'], ['t'], [], ['r'], ['a'], ['t'], ['i'], ['o'], ['s'], ['!'], [], [], ['A'], [], ['f'], ['i'], ['v'], ['e'], [], ['o'], ['u'], ['n'], ['c'], ['e'], [], ['b'], ['i'], ['r'], ['d'], [], ['c'], ['o'], ['u'], ['l'], ['d'], [], ['n'], ['o'], ['t'], [], ['c'], ['a'], ['r'], ['r'], ['y'], [], ['a'], [], ['o'], ['n'], ['e'], [], ['p'], ['o'], ['u'], ['n'], ['d'], [], ['c'], ['o'], ['c'], ['o'], ['n'], ['u'], ['t'], ['.'], [], ['A'], ['R'], ['T'], ['H'], ['U'], ['R'], [':'], [], ['W'], ['e'], ['l'], ['l'], [','], [], ['i'], ['t'], [], ['d'], ['o'], ['e'], ['s'], ['n'], [\"'\"], ['t'], [], ['m'], ['a'], ['t'], ['t'], ['e'], ['r'], ['.'], [], [], ['W'], ['i'], ['l'], ['l'], [], ['y'], ['o'], ['u'], [], ['g'], ['o'], [], ['a'], ['n'], ['d'], [], ['t'], ['e'], ['l'], ['l'], [], ['y'], ['o'], ['u'], ['r'], [], ['m'], ['a'], ['s'], ['t'], ['e'], ['r'], [], ['t'], ['h'], ['a'], ['t'], [], ['A'], ['r'], ['t'], ['h'], ['u'], ['r'], [], ['f'], ['r'], ['o'], ['m'], [], ['t'], ['h'], ['e'], [], ['C'], ['o'], ['u'], ['r'], ['t'], [], ['o'], ['f'], [], ['C'], ['a'], ['m'], ['e'], ['l'], ['o'], ['t'], [], ['i'], ['s'], [], ['h'], ['e'], ['r'], ['e'], ['.'], [], ['S'], ['O'], ['L'], ['D'], ['I'], ['E'], ['R'], [], ['#'], ['1'], [':'], [], ['L'], ['i'], ['s'], ['t'], ['e'], ['n'], ['.'], [], [], ['I'], ['n'], [], ['o'], ['r'], ['d'], ['e'], ['r'], [], ['t'], ['o'], [], ['m'], ['a'], ['i'], ['n'], ['t'], ['a'], ['i'], ['n'], [], ['a'], ['i'], ['r'], ['-'], ['s'], ['p'], ['e'], ['e'], ['d'], [], ['v'], ['e'], ['l'], ['o'], ['c'], ['i'], ['t'], ['y'], [','], [], ['a'], [], ['s'], ['w'], ['a'], ['l'], ['l'], ['o'], ['w'], [], ['n'], ['e'], ['e'], ['d'], ['s'], [], ['t'], ['o'], [], ['b'], ['e'], ['a'], ['t'], [], ['i'], ['t'], ['s'], [], ['w'], ['i'], ['n'], ['g'], ['s'], [], ['f'], ['o'], ['r'], ['t'], ['y'], ['-'], ['t'], ['h'], ['r'], ['e'], ['e'], [], ['t'], ['i'], ['m'], ['e'], ['s'], [], ['e'], ['v'], ['e'], ['r'], ['y'], [], ['s'], ['e'], ['c'], ['o'], ['n'], ['d'], [','], [], ['r'], ['i'], ['g'], ['h'], ['t'], ['?'], [], ['A'], ['R'], ['T'], ['H'], ['U'], ['R'], [':'], [], ['P'], ['l'], ['e'], ['a'], ['s'], ['e'], ['!'], [], ['S'], ['O'], ['L'], ['D'], ['I'], ['E'], ['R'], [], ['#'], ['1'], [':'], [], ['A'], ['m'], [], ['I'], [], ['r'], ['i'], ['g'], ['h'], ['t'], ['?'], [], ['A'], ['R'], ['T'], ['H'], ['U'], ['R'], [':'], [], ['I'], [\"'\"], ['m'], [], ['n'], ['o'], ['t'], [], ['i'], ['n'], ['t'], ['e'], ['r'], ['e'], ['s'], ['t'], ['e'], ['d'], ['!'], [], ['S'], ['O'], ['L'], ['D'], ['I'], ['E'], ['R'], [], ['#'], ['2'], [':'], [], ['I'], ['t'], [], ['c'], ['o'], ['u'], ['l'], ['d'], [], ['b'], ['e'], [], ['c'], ['a'], ['r'], ['r'], ['i'], ['e'], ['d'], [], ['b'], ['y'], [], ['a'], ['n'], [], ['A'], ['f'], ['r'], ['i'], ['c'], ['a'], ['n'], [], ['s'], ['w'], ['a'], ['l'], ['l'], ['o'], ['w'], ['!'], [], ['S'], ['O'], ['L'], ['D'], ['I'], ['E'], ['R'], [], ['#'], ['1'], [':'], [], ['O'], ['h'], [','], [], ['y'], ['e'], ['a'], ['h'], [','], [], ['a'], ['n'], [], ['A'], ['f'], ['r'], ['i'], ['c'], ['a'], ['n'], [], ['s'], ['w'], ['a'], ['l'], ['l'], ['o'], ['w'], [], ['m'], ['a'], ['y'], ['b'], ['e'], [','], [], ['b'], ['u'], ['t'], [], ['n'], ['o'], ['t'], [], ['a'], [], ['E'], ['u'], ['r'], ['o'], ['p'], ['e'], ['a'], ['n'], [], ['s'], ['w'], ['a'], ['l'], ['l'], ['o'], ['w'], ['.'], [], [], ['T'], ['h'], ['a'], ['t'], [\"'\"], ['s'], [], ['m'], ['y'], [], ['p'], ['o'], ['i'], ['n'], ['t'], ['.'], [], ['S'], ['O'], ['L'], ['D'], ['I'], ['E'], ['R'], [], ['#'], ['2'], [':'], [], ['O'], ['h'], [','], [], ['y'], ['e'], ['a'], ['h'], [','], [], ['I'], [], ['a'], ['g'], ['r'], ['e'], ['e'], [], ['w'], ['i'], ['t'], ['h'], [], ['t'], ['h'], ['a'], ['t'], ['.'], [], ['A'], ['R'], ['T'], ['H'], ['U'], ['R'], [':'], [], ['W'], ['i'], ['l'], ['l'], [], ['y'], ['o'], ['u'], [], ['a'], ['s'], ['k'], [], ['y'], ['o'], ['u'], ['r'], [], ['m'], ['a'], ['s'], ['t'], ['e'], ['r'], [], ['i'], ['f'], [], ['h'], ['e'], [], ['w'], ['a'], ['n'], ['t'], ['s'], [], ['t'], ['o'], [], ['j'], ['o'], ['i'], ['n'], [], ['m'], ['y'], [], ['c'], ['o'], ['u'], ['r'], ['t'], [], ['a'], ['t'], [], ['C'], ['a'], ['m'], ['e'], ['l'], ['o'], ['t'], ['?'], ['!'], [], ['S'], ['O'], ['L'], ['D'], ['I'], ['E'], ['R'], [], ['#'], ['1'], [':'], [], ['B'], ['u'], ['t'], [], ['t'], ['h'], ['e'], ['n'], [], ['o'], ['f'], [], ['c'], ['o'], ['u'], ['r'], ['s'], ['e'], [], ['a'], ['-'], ['-'], [], ['A'], ['f'], ['r'], ['i'], ['c'], ['a'], ['n'], [], ['s'], ['w'], ['a'], ['l'], ['l'], ['o'], ['w'], ['s'], [], ['a'], ['r'], ['e'], [], ['n'], ['o'], ['n'], ['-'], ['m'], ['i'], ['g'], ['r'], ['a'], ['t'], ['o'], ['r'], ['y'], ['.'], [], ['S'], ['O'], ['L'], ['D'], ['I'], ['E'], ['R'], [], ['#'], ['2'], [':'], [], ['O'], ['h'], [','], [], ['y'], ['e'], ['a'], ['h'], ['.'], ['.'], ['.'], [], ['S'], ['O'], ['L'], ['D'], ['I'], ['E'], ['R'], [], ['#'], ['1'], [':'], [], ['S'], ['o'], [], ['t'], ['h'], ['e'], ['y'], [], ['c'], ['o'], ['u'], ['l'], ['d'], ['n'], [\"'\"], ['t'], [], ['b'], ['r'], ['i'], ['n'], ['g'], [], ['a'], [], ['c'], ['o'], ['c'], ['o'], ['n'], ['u'], ['t'], [], ['b'], ['a'], ['c'], ['k'], [], ['a'], ['n'], ['y'], ['w'], ['a'], ['y'], ['.'], ['.'], ['.'], [], [], ['['], ['c'], ['l'], ['o'], ['p'], [], ['c'], ['l'], ['o'], ['p'], [], ['c'], ['l'], ['o'], ['p'], [']'], [], [], ['S'], ['O'], ['L'], ['D'], ['I'], ['E'], ['R'], [], ['#'], ['2'], [':'], [], ['W'], ['a'], ['i'], ['t'], [], ['a'], [], ['m'], ['i'], ['n'], ['u'], ['t'], ['e'], ['!'], [], [], ['S'], ['u'], ['p'], ['p'], ['o'], ['s'], ['i'], ['n'], ['g'], [], ['t'], ['w'], ['o'], [], ['s'], ['w'], ['a'], ['l'], ['l'], ['o'], ['w'], ['s'], [], ['c'], ['a'], ['r'], ['r'], ['i'], ['e'], ['d'], [], ['i'], ['t'], [], ['t'], ['o'], ['g'], ['e'], ['t'], ['h'], ['e'], ['r'], ['?'], [], ['S'], ['O'], ['L'], ['D'], ['I'], ['E'], ['R'], [], ['#'], ['1'], [':'], [], ['N'], ['o'], [','], [], ['t'], ['h'], ['e'], ['y'], [\"'\"], ['d'], [], ['h'], ['a'], ['v'], ['e'], [], ['t'], ['o'], [], ['h'], ['a'], ['v'], ['e'], [], ['i'], ['t'], [], ['o'], ['n'], [], ['a'], [], ['l'], ['i'], ['n'], ['e'], ['.'], [], ['S'], ['O'], ['L'], ['D'], ['I'], ['E'], ['R'], [], ['#'], ['2'], [':'], [], ['W'], ['e'], ['l'], ['l'], [','], [], ['s'], ['i'], ['m'], ['p'], ['l'], ['e'], ['!'], [], [], ['T'], ['h'], ['e'], ['y'], [\"'\"], ['d'], [], ['j'], ['u'], ['s'], ['t'], [], ['u'], ['s'], ['e'], [], ['a'], [], ['s'], ['t'], ['r'], ['a'], ['n'], ['d'], [], ['o'], ['f'], [], ['c'], ['r'], ['e'], ['e'], ['p'], ['e'], ['r'], ['!'], [], ['S'], ['O'], ['L'], ['D'], ['I'], ['E'], ['R'], [], ['#'], ['1'], [':'], [], ['W'], ['h'], ['a'], ['t'], [','], [], ['h'], ['e'], ['l'], ['d'], [], ['u'], ['n'], ['d'], ['e'], ['r'], [], ['t'], ['h'], ['e'], [], ['d'], ['o'], ['r'], ['s'], ['a'], ['l'], [], ['g'], ['u'], ['i'], ['d'], ['i'], ['n'], ['g'], [], ['f'], ['e'], ['a'], ['t'], ['h'], ['e'], ['r'], ['s'], ['?'], [], ['S'], ['O'], ['L'], ['D'], ['I'], ['E'], ['R'], [], ['#'], ['2'], [':'], [], ['W'], ['e'], ['l'], ['l'], [','], [], ['w'], ['h'], ['y'], [], ['n'], ['o'], ['t'], ['?'], []]\n"
     ]
    }
   ],
   "source": [
    "tknzr = TweetTokenizer()\n",
    "all_tokens = [tknzr.tokenize(t) for t in string]\n",
    "print(all_tokens)"
   ],
   "metadata": {
    "collapsed": false,
    "ExecuteTime": {
     "end_time": "2024-03-18T12:31:03.054688Z",
     "start_time": "2024-03-18T12:31:02.848138800Z"
    }
   },
   "id": "536989a54464764d"
  },
  {
   "cell_type": "markdown",
   "source": [
    "### Tokenize and print only capital words"
   ],
   "metadata": {
    "collapsed": false
   },
   "id": "4a2a45a8699aaa40"
  },
  {
   "cell_type": "code",
   "execution_count": 178,
   "outputs": [
    {
     "name": "stdout",
     "output_type": "stream",
     "text": [
      "['SCENE', 'KING', 'ARTHUR', 'Whoa', 'SOLDIER', 'Halt', 'Who', 'ARTHUR', 'It', 'Arthur', 'Uther', 'Pendragon', 'Camelot', 'King', 'Britons', 'Saxons', 'England', 'SOLDIER', 'Pull', 'ARTHUR', 'Patsy', 'We', 'Camelot', 'SOLDIER', 'What', 'Ridden', 'ARTHUR', 'Yes', 'SOLDIER', 'You', 'ARTHUR', 'What', 'SOLDIER', 'You', 'ARTHUR', 'So', 'We', 'Mercea', 'SOLDIER', 'Where', 'ARTHUR', 'We', 'SOLDIER', 'Found', 'In', 'Mercea', 'The', 'ARTHUR', 'What', 'SOLDIER', 'Well', 'ARTHUR', 'The', 'SOLDIER', 'Are', 'ARTHUR', 'Not', 'They', 'SOLDIER', 'What', 'ARTHUR', 'It', 'SOLDIER', 'It', 'It', 'ARTHUR', 'Well', 'Will', 'Arthur', 'Court', 'Camelot', 'SOLDIER', 'Listen', 'In', 'ARTHUR', 'Please', 'SOLDIER', 'Am', 'ARTHUR', 'SOLDIER', 'It', 'African', 'SOLDIER', 'Oh', 'African', 'European', 'That', 'SOLDIER', 'Oh', 'ARTHUR', 'Will', 'Camelot', 'SOLDIER', 'But', 'African', 'SOLDIER', 'Oh', 'SOLDIER', 'So', 'SOLDIER', 'Wait', 'Supposing', 'SOLDIER', 'No', 'SOLDIER', 'Well', 'They', 'SOLDIER', 'What', 'SOLDIER', 'Well']\n"
     ]
    }
   ],
   "source": [
    "capital_words = r\"[A-ZÜ]\\w+\"\n",
    "print(regexp_tokenize(string, capital_words))"
   ],
   "metadata": {
    "collapsed": false,
    "ExecuteTime": {
     "end_time": "2024-03-18T12:31:03.057696200Z",
     "start_time": "2024-03-18T12:31:02.867153200Z"
    }
   },
   "id": "e2b8e69e76644e3e"
  },
  {
   "cell_type": "markdown",
   "source": [
    "### Tokenize and print only emoji"
   ],
   "metadata": {
    "collapsed": false
   },
   "id": "de2f877d64de9a86"
  },
  {
   "cell_type": "code",
   "execution_count": 179,
   "outputs": [
    {
     "name": "stdout",
     "output_type": "stream",
     "text": [
      "[\"'\", \"'\", \"'\", \"'\", \"'\", \"'\", \"'\", \"'\", \"'\", \"'\", \"'\", \"'\", \"'\", \"'\", \"'\"]\n"
     ]
    }
   ],
   "source": [
    "\n",
    "emoji = \"['\\U0001F300-\\U0001F5FF'|'\\U0001F600-\\U0001F64F'|'\\U0001F680-\\U0001F6FF'|'\\u2600-\\u26FF\\u2700-\\u27BF']\"\n",
    "print(regexp_tokenize(string, emoji))"
   ],
   "metadata": {
    "collapsed": false,
    "ExecuteTime": {
     "end_time": "2024-03-18T12:31:03.059696200Z",
     "start_time": "2024-03-18T12:31:02.870832100Z"
    }
   },
   "id": "9c027684ded8d8e"
  },
  {
   "cell_type": "code",
   "execution_count": 180,
   "outputs": [
    {
     "name": "stdout",
     "output_type": "stream",
     "text": [
      "[6, 5, 4, 25, 4, 40, 5, 1, 4, 1, 14, 18, 6, 3, 8, 4, 6, 29, 5, 7, 6, 7, 29, 21, 21, 1, 3, 4, 8, 15, 6, 14, 10, 2, 12, 9, 10, 10, 7, 3, 0]\n"
     ]
    },
    {
     "data": {
      "text/plain": "<Figure size 640x480 with 1 Axes>",
      "image/png": "[encoded data removed]"
     },
     "metadata": {},
     "output_type": "display_data"
    }
   ],
   "source": [
    "# Split the script into lines: lines\n",
    "lines = string.split('\\n')\n",
    "\n",
    "# Replace all script lines for speaker\n",
    "pattern = \"[A-Z]{2,}(\\s)?(#\\d)?([A-Z]{2,})?:\"\n",
    "lines = [re.sub(pattern, '', l) for l in lines]\n",
    "\n",
    "# Tokenize each line: tokenized_lines\n",
    "tokenized_lines = [regexp_tokenize(s,'\\w+') for s in lines]\n",
    "\n",
    "# Make a frequency list of lengths: line_num_words\n",
    "line_num_words = [len(t_line) for t_line in tokenized_lines]\n",
    "print(line_num_words)\n",
    "# Plot a histogram of the line lengths\n",
    "plt.hist(line_num_words)\n",
    "\n",
    "# Show the plot\n",
    "plt.show()\n"
   ],
   "metadata": {
    "collapsed": false,
    "ExecuteTime": {
     "end_time": "2024-03-18T12:31:03.076219600Z",
     "start_time": "2024-03-18T12:31:02.878655300Z"
    }
   },
   "id": "101024a85f5aed85"
  },
  {
   "cell_type": "markdown",
   "source": [
    "### Tokenize the string: tokens"
   ],
   "metadata": {
    "collapsed": false
   },
   "id": "2a65925699f1980a"
  },
  {
   "cell_type": "code",
   "execution_count": 181,
   "outputs": [],
   "source": [
    "tokens = word_tokenize(string)"
   ],
   "metadata": {
    "collapsed": false,
    "ExecuteTime": {
     "end_time": "2024-03-18T12:31:03.086497800Z",
     "start_time": "2024-03-18T12:31:02.984692200Z"
    }
   },
   "id": "9fcb0b0307f60455"
  },
  {
   "cell_type": "markdown",
   "source": [
    "### Converting the tokens into lowercase: lower_tokens"
   ],
   "metadata": {
    "collapsed": false
   },
   "id": "81d13dc790493eeb"
  },
  {
   "cell_type": "code",
   "execution_count": 182,
   "outputs": [],
   "source": [
    "lower_tokens = [t.lower() for t in tokens]"
   ],
   "metadata": {
    "collapsed": false,
    "ExecuteTime": {
     "end_time": "2024-03-18T12:31:03.086497800Z",
     "start_time": "2024-03-18T12:31:02.995211900Z"
    }
   },
   "id": "212c5e4dc09dc74d"
  },
  {
   "cell_type": "markdown",
   "source": [
    "### Creating a Counter with the lowercase tokens"
   ],
   "metadata": {
    "collapsed": false
   },
   "id": "f0b5094af9aaa3d0"
  },
  {
   "cell_type": "code",
   "execution_count": 183,
   "outputs": [
    {
     "name": "stdout",
     "output_type": "stream",
     "text": [
      "[(':', 40), ('soldier', 24), ('#', 24), (',', 23), ('1', 19), ('?', 19), ('.', 18), ('arthur', 17), ('!', 17), ('the', 17)]\n"
     ]
    }
   ],
   "source": [
    "bow_simple = Counter(lower_tokens)\n",
    "print(bow_simple.most_common(10))"
   ],
   "metadata": {
    "collapsed": false,
    "ExecuteTime": {
     "end_time": "2024-03-18T12:31:03.087803600Z",
     "start_time": "2024-03-18T12:31:03.002089700Z"
    }
   },
   "id": "8f728cc312306929"
  },
  {
   "cell_type": "markdown",
   "source": [
    "## Text preprocessing "
   ],
   "metadata": {
    "collapsed": false
   },
   "id": "974da5be238904bf"
  },
  {
   "cell_type": "code",
   "execution_count": 184,
   "outputs": [],
   "source": [
    "from nltk.stem import WordNetLemmatizer"
   ],
   "metadata": {
    "collapsed": false,
    "ExecuteTime": {
     "end_time": "2024-03-18T12:31:03.308713Z",
     "start_time": "2024-03-18T12:31:03.008981400Z"
    }
   },
   "id": "3c0b0091be6e8171"
  },
  {
   "cell_type": "markdown",
   "source": [
    "### Retain alphabetic words: alpha_only"
   ],
   "metadata": {
    "collapsed": false
   },
   "id": "537960429e3f3c4a"
  },
  {
   "cell_type": "code",
   "execution_count": 185,
   "outputs": [],
   "source": [
    "alpha_only = [t for t in lower_tokens if t.isalpha()]"
   ],
   "metadata": {
    "collapsed": false,
    "ExecuteTime": {
     "end_time": "2024-03-18T12:31:03.323289900Z",
     "start_time": "2024-03-18T12:31:03.015121700Z"
    }
   },
   "id": "604d6ce6ce4c110c"
  },
  {
   "cell_type": "markdown",
   "source": [
    "### Remove all stop words: no_stops"
   ],
   "metadata": {
    "collapsed": false
   },
   "id": "ff150e9bfcda9234"
  },
  {
   "cell_type": "code",
   "execution_count": 186,
   "outputs": [
    {
     "name": "stdout",
     "output_type": "stream",
     "text": [
      "['scene', 'wind', 'clop', 'clop', 'clop', 'king', 'arthur', 'whoa', 'clop', 'clop', 'clop', 'soldier', 'halt', 'goes', 'arthur', 'arthur', 'son', 'uther', 'pendragon', 'castle', 'camelot', 'king', 'britons', 'defeator', 'saxons', 'sovereign', 'england', 'soldier', 'pull', 'one', 'arthur', 'trusty', 'servant', 'patsy', 'ridden', 'length', 'breadth', 'land', 'search', 'knights', 'join', 'court', 'camelot', 'must', 'speak', 'lord', 'master', 'soldier', 'ridden', 'horse', 'arthur', 'yes', 'soldier', 'using', 'coconuts', 'arthur', 'soldier', 'got', 'two', 'empty', 'halves', 'coconut', 'bangin', 'together', 'arthur', 'ridden', 'since', 'snows', 'winter', 'covered', 'land', 'kingdom', 'mercea', 'soldier', 'get', 'coconuts', 'arthur', 'found', 'soldier', 'found', 'mercea', 'coconut', 'tropical', 'arthur', 'mean', 'soldier', 'well', 'temperate', 'zone', 'arthur', 'swallow', 'may', 'fly', 'south', 'sun', 'house', 'martin', 'plover', 'may', 'seek', 'warmer', 'climes', 'winter', 'yet', 'strangers', 'land', 'soldier', 'suggesting', 'coconuts', 'migrate', 'arthur', 'could', 'carried', 'soldier', 'swallow', 'carrying', 'coconut', 'arthur', 'could', 'grip', 'husk', 'soldier', 'question', 'grips', 'simple', 'question', 'weight', 'ratios', 'five', 'ounce', 'bird', 'could', 'carry', 'one', 'pound', 'coconut', 'arthur', 'well', 'matter', 'go', 'tell', 'master', 'arthur', 'court', 'camelot', 'soldier', 'listen', 'order', 'maintain', 'velocity', 'swallow', 'needs', 'beat', 'wings', 'times', 'every', 'second', 'right', 'arthur', 'please', 'soldier', 'right', 'arthur', 'interested', 'soldier', 'could', 'carried', 'african', 'swallow', 'soldier', 'oh', 'yeah', 'african', 'swallow', 'maybe', 'european', 'swallow', 'point', 'soldier', 'oh', 'yeah', 'agree', 'arthur', 'ask', 'master', 'wants', 'join', 'court', 'camelot', 'soldier', 'course', 'african', 'swallows', 'soldier', 'oh', 'yeah', 'soldier', 'could', 'bring', 'coconut', 'back', 'anyway', 'clop', 'clop', 'clop', 'soldier', 'wait', 'minute', 'supposing', 'two', 'swallows', 'carried', 'together', 'soldier', 'line', 'soldier', 'well', 'simple', 'use', 'strand', 'creeper', 'soldier', 'held', 'dorsal', 'guiding', 'feathers', 'soldier', 'well']\n"
     ]
    }
   ],
   "source": [
    "\n",
    "stopwords1 = stopwords.words('english')\n",
    "no_stops = [t for t in alpha_only if t not in stopwords1]\n",
    "print(no_stops)"
   ],
   "metadata": {
    "collapsed": false,
    "ExecuteTime": {
     "end_time": "2024-03-18T12:31:03.325292100Z",
     "start_time": "2024-03-18T12:31:03.020643Z"
    }
   },
   "id": "989eb98b479d3bd0"
  },
  {
   "cell_type": "markdown",
   "source": [
    "### Instantiate the WordNetLemmatizer"
   ],
   "metadata": {
    "collapsed": false
   },
   "id": "912e521d3bbbd797"
  },
  {
   "cell_type": "code",
   "execution_count": 187,
   "outputs": [],
   "source": [
    "wordnet_lemmatizer = WordNetLemmatizer()"
   ],
   "metadata": {
    "collapsed": false,
    "ExecuteTime": {
     "end_time": "2024-03-18T12:31:03.325292100Z",
     "start_time": "2024-03-18T12:31:03.028185400Z"
    }
   },
   "id": "3d6d07d1157ff721"
  },
  {
   "cell_type": "markdown",
   "source": [
    "### Lemmatize all tokens into a new list: lemmatized"
   ],
   "metadata": {
    "collapsed": false
   },
   "id": "b9314ca76424f1ad"
  },
  {
   "cell_type": "code",
   "execution_count": 191,
   "outputs": [
    {
     "name": "stdout",
     "output_type": "stream",
     "text": [
      "['scene', 'wind', 'clop', 'clop', 'clop', 'king', 'arthur', 'whoa', 'clop', 'clop', 'clop', 'soldier', 'halt', 'go', 'arthur', 'arthur', 'son', 'uther', 'pendragon', 'castle', 'camelot', 'king', 'briton', 'defeator', 'saxon', 'sovereign', 'england', 'soldier', 'pull', 'one', 'arthur', 'trusty', 'servant', 'patsy', 'ridden', 'length', 'breadth', 'land', 'search', 'knight', 'join', 'court', 'camelot', 'must', 'speak', 'lord', 'master', 'soldier', 'ridden', 'horse', 'arthur', 'yes', 'soldier', 'using', 'coconut', 'arthur', 'soldier', 'got', 'two', 'empty', 'half', 'coconut', 'bangin', 'together', 'arthur', 'ridden', 'since', 'snow', 'winter', 'covered', 'land', 'kingdom', 'mercea', 'soldier', 'get', 'coconut', 'arthur', 'found', 'soldier', 'found', 'mercea', 'coconut', 'tropical', 'arthur', 'mean', 'soldier', 'well', 'temperate', 'zone', 'arthur', 'swallow', 'may', 'fly', 'south', 'sun', 'house', 'martin', 'plover', 'may', 'seek', 'warmer', 'clime', 'winter', 'yet', 'stranger', 'land', 'soldier', 'suggesting', 'coconut', 'migrate', 'arthur', 'could', 'carried', 'soldier', 'swallow', 'carrying', 'coconut', 'arthur', 'could', 'grip', 'husk', 'soldier', 'question', 'grip', 'simple', 'question', 'weight', 'ratio', 'five', 'ounce', 'bird', 'could', 'carry', 'one', 'pound', 'coconut', 'arthur', 'well', 'matter', 'go', 'tell', 'master', 'arthur', 'court', 'camelot', 'soldier', 'listen', 'order', 'maintain', 'velocity', 'swallow', 'need', 'beat', 'wing', 'time', 'every', 'second', 'right', 'arthur', 'please', 'soldier', 'right', 'arthur', 'interested', 'soldier', 'could', 'carried', 'african', 'swallow', 'soldier', 'oh', 'yeah', 'african', 'swallow', 'maybe', 'european', 'swallow', 'point', 'soldier', 'oh', 'yeah', 'agree', 'arthur', 'ask', 'master', 'want', 'join', 'court', 'camelot', 'soldier', 'course', 'african', 'swallow', 'soldier', 'oh', 'yeah', 'soldier', 'could', 'bring', 'coconut', 'back', 'anyway', 'clop', 'clop', 'clop', 'soldier', 'wait', 'minute', 'supposing', 'two', 'swallow', 'carried', 'together', 'soldier', 'line', 'soldier', 'well', 'simple', 'use', 'strand', 'creeper', 'soldier', 'held', 'dorsal', 'guiding', 'feather', 'soldier', 'well']\n"
     ]
    }
   ],
   "source": [
    "\n",
    "lemmatized = [wordnet_lemmatizer.lemmatize(t) for t in no_stops]\n",
    "print(lemmatized)"
   ],
   "metadata": {
    "collapsed": false,
    "ExecuteTime": {
     "end_time": "2024-03-18T12:33:29.721303900Z",
     "start_time": "2024-03-18T12:33:29.710739300Z"
    }
   },
   "id": "9f8ecd5a82ca2e86"
  },
  {
   "cell_type": "markdown",
   "source": [
    "### Create the bag-of-words: bow"
   ],
   "metadata": {
    "collapsed": false
   },
   "id": "de2519c08d2cf086"
  },
  {
   "cell_type": "code",
   "execution_count": 192,
   "outputs": [
    {
     "name": "stdout",
     "output_type": "stream",
     "text": [
      "[('soldier', 24), ('arthur', 17), ('clop', 9), ('coconut', 8), ('swallow', 8), ('could', 5), ('camelot', 4), ('well', 4), ('ridden', 3), ('land', 3)]\n"
     ]
    }
   ],
   "source": [
    "bow = Counter(lemmatized)\n",
    "# Printing the 10 most common tokens\n",
    "print(bow.most_common(10))"
   ],
   "metadata": {
    "collapsed": false,
    "ExecuteTime": {
     "end_time": "2024-03-18T12:33:34.884521900Z",
     "start_time": "2024-03-18T12:33:34.879967900Z"
    }
   },
   "id": "d02cc8654dd95a7c"
  },
  {
   "cell_type": "code",
   "execution_count": 200,
   "outputs": [
    {
     "name": "stdout",
     "output_type": "stream",
     "text": [
      "ValuesView(<gensim.corpora.dictionary.Dictionary object at 0x00000191C64F3B90>)\n"
     ]
    }
   ],
   "source": [
    "dictionary = Dictionary([lemmatized])\n"
   ],
   "metadata": {
    "collapsed": false,
    "ExecuteTime": {
     "end_time": "2024-03-18T12:41:22.190073700Z",
     "start_time": "2024-03-18T12:41:22.167925Z"
    }
   },
   "id": "5941851bc2dedc04"
  },
  {
   "cell_type": "code",
   "execution_count": null,
   "outputs": [],
   "source": [],
   "metadata": {
    "collapsed": false,
    "ExecuteTime": {
     "start_time": "2024-03-18T12:31:03.082502400Z"
    }
   },
   "id": "33018fce93aea2f7"
  }
 ],
 "metadata": {
  "kernelspec": {
   "display_name": "Python 3",
   "language": "python",
   "name": "python3"
  },
  "language_info": {
   "codemirror_mode": {
    "name": "ipython",
    "version": 2
   },
   "file_extension": ".py",
   "mimetype": "text/x-python",
   "name": "python",
   "nbconvert_exporter": "python",
   "pygments_lexer": "ipython2",
   "version": "2.7.6"
  }
 },
 "nbformat": 4,
 "nbformat_minor": 5
}
